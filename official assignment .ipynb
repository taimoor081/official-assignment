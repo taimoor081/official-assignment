{
 "cells": [
  {
   "cell_type": "markdown",
   "metadata": {},
   "source": [
    "# Area of Circle"
   ]
  },
  {
   "cell_type": "code",
   "execution_count": 25,
   "metadata": {},
   "outputs": [
    {
     "name": "stdout",
     "output_type": "stream",
     "text": [
      "enter radius of the circle:0.5\n",
      "the area of circle with radius 0.5 is 0.7855\n"
     ]
    }
   ],
   "source": [
    "rad=float(input(\"enter radius of the circle:\"))\n",
    "area=3.142*rad**2\n",
    "print(f\"the area of circle with radius {rad} is {area}\")"
   ]
  },
  {
   "cell_type": "markdown",
   "metadata": {},
   "source": [
    "# Check number either positive or negative or zero"
   ]
  },
  {
   "cell_type": "code",
   "execution_count": 8,
   "metadata": {},
   "outputs": [
    {
     "name": "stdout",
     "output_type": "stream",
     "text": [
      "enter an integer 0\n",
      "zero entered\n"
     ]
    }
   ],
   "source": [
    "num=int(input(\"enter an integer \"))\n",
    "if (num>0):\n",
    "    print(\"positive number entered\")\n",
    "elif (num<0):\n",
    "    print(\"negative number entered\")\n",
    "else:\n",
    "    print(\"zero entered\")"
   ]
  },
  {
   "cell_type": "markdown",
   "metadata": {},
   "source": [
    "#  Divisibility Check of two numbers"
   ]
  },
  {
   "cell_type": "code",
   "execution_count": 24,
   "metadata": {},
   "outputs": [
    {
     "name": "stdout",
     "output_type": "stream",
     "text": [
      "enter numerator50\n",
      "enter denominator25\n",
      "the quotient is 2.0\n",
      "the 50 is divided by 25\n"
     ]
    }
   ],
   "source": [
    "num=int(input(\"enter numerator\"))\n",
    "den=int(input(\"enter denominator\"))\n",
    "ans=num/den\n",
    "print(f\"the quotient is {ans}\")\n",
    "if (ans%2==0):\n",
    "    print(f\"the {num} is divided by {den}\")\n",
    "else:\n",
    "    print(f\"the {num} is not divided by {den}\")"
   ]
  },
  {
   "cell_type": "markdown",
   "metadata": {},
   "source": [
    "# Calculate Volume of a sphere"
   ]
  },
  {
   "cell_type": "code",
   "execution_count": 31,
   "metadata": {},
   "outputs": [
    {
     "name": "stdout",
     "output_type": "stream",
     "text": [
      "enter radius of the sphere 1\n",
      "the volume of sphere having radius 1.0 is 4.189333333333333\n"
     ]
    }
   ],
   "source": [
    "rad=float(input(\"enter radius of the sphere \"))\n",
    "vol=(4/3)*(3.142)*rad**(3)\n",
    "print(f\"the volume of sphere having radius {rad} is {vol}\")"
   ]
  },
  {
   "cell_type": "markdown",
   "metadata": {},
   "source": [
    "# Copy string n times"
   ]
  },
  {
   "cell_type": "code",
   "execution_count": 2,
   "metadata": {},
   "outputs": [
    {
     "name": "stdout",
     "output_type": "stream",
     "text": [
      "enter an string hi\n",
      "how many times do you want to copy 4\n",
      "string copied 4 times and become hihihihi\n"
     ]
    }
   ],
   "source": [
    "str=input(\"enter an string \")\n",
    "n=int(input(\"how many times do you want to copy \"))\n",
    "nstr=n*str\n",
    "print(f\"string copied {n} times and become {nstr}\")"
   ]
  },
  {
   "cell_type": "code",
   "execution_count": 4,
   "metadata": {},
   "outputs": [
    {
     "name": "stdout",
     "output_type": "stream",
     "text": [
      "enter a number to check even or odd 6\n",
      "the number is even\n"
     ]
    }
   ],
   "source": [
    "x=int(input(\"enter a number to check even or odd \"))\n",
    "if (x%2==0):\n",
    "    print(\"the number is even\")\n",
    "else:\n",
    "    print(\"the number is odd\")"
   ]
  },
  {
   "cell_type": "markdown",
   "metadata": {},
   "source": [
    "# Vowel Tester"
   ]
  },
  {
   "cell_type": "code",
   "execution_count": 10,
   "metadata": {},
   "outputs": [
    {
     "name": "stdout",
     "output_type": "stream",
     "text": [
      "enter an alphabet c\n",
      "the enetered alphabet is not vowel\n"
     ]
    }
   ],
   "source": [
    "alph=input(\"enter an alphabet \")\n",
    "if (alph=='a' or alph=='A')or(alph=='e' or alph=='E')or(alph=='i' or alph=='I')or(alph=='o' or alph=='O')or(alph=='u' or alph=='U'):\n",
    "    print(\"the entered alphabet is vowel\")\n",
    "else:\n",
    "    print(\"the enetered alphabet is not vowel\")"
   ]
  },
  {
   "cell_type": "markdown",
   "metadata": {},
   "source": [
    "# Triangle area"
   ]
  },
  {
   "cell_type": "code",
   "execution_count": 3,
   "metadata": {},
   "outputs": [
    {
     "name": "stdout",
     "output_type": "stream",
     "text": [
      "enter base of triangle10\n",
      "enter altitude of triangle6\n",
      "the area of triangle having base 10.0 and altitude 6.0 is 30.0\n"
     ]
    }
   ],
   "source": [
    "base=float(input(\"enter base of triangle\"))\n",
    "altitude=float(input(\"enter altitude of triangle\"))\n",
    "area=(1/2)*base*altitude\n",
    "print(f\"the area of triangle having base {base} and altitude {altitude} is {area}\")"
   ]
  },
  {
   "cell_type": "markdown",
   "metadata": {},
   "source": [
    "# Calculate Interest"
   ]
  },
  {
   "cell_type": "code",
   "execution_count": 4,
   "metadata": {},
   "outputs": [
    {
     "name": "stdout",
     "output_type": "stream",
     "text": [
      "Please enter principal amount: 5000\n",
      "Please Enter Rate of interest in %: 0.2\n",
      "Enter number of years for investment: 5\n",
      "After 5  years your principal ammount 5000 over an interest rate of 0.2% will be 12441.6\n"
     ]
    }
   ],
   "source": [
    "amount=int(input(\"Please enter principal amount: \"))\n",
    "interest=float(input(\"Please Enter Rate of interest in %: \"))\n",
    "years=int(input(\"Enter number of years for investment: \"))\n",
    "future_value=amount*((1+(interest))**years)\n",
    "print(f\"After {years}  years your principal ammount {amount} over an interest rate of {interest}% will be {round(future_value,2)}\")"
   ]
  },
  {
   "cell_type": "markdown",
   "metadata": {},
   "source": [
    "# Euclidean distance"
   ]
  },
  {
   "cell_type": "code",
   "execution_count": 11,
   "metadata": {},
   "outputs": [
    {
     "name": "stdout",
     "output_type": "stream",
     "text": [
      "enter x1 4\n",
      "enter x2 2\n",
      "enter y1 6\n",
      "enter y2 6\n",
      "the euclidean distance between points (4, 2) and (6, 6)is 2.0\n"
     ]
    }
   ],
   "source": [
    "x1=int(input(\"enter x1 \"))\n",
    "x2=int(input(\"enter x2 \"))\n",
    "y1=int(input(\"enter y1 \"))\n",
    "y2=int(input(\"enter y2 \"))\n",
    "dist=((x2-x1)**2+(y2-y1)**2)**0.5\n",
    "print(f\"the euclidean distance between points {(x1,x2)} and {(y1,y2)}is {dist}\")"
   ]
  },
  {
   "cell_type": "markdown",
   "metadata": {},
   "source": [
    "# Feet to Centimeter Converter"
   ]
  },
  {
   "cell_type": "code",
   "execution_count": 13,
   "metadata": {},
   "outputs": [
    {
     "name": "stdout",
     "output_type": "stream",
     "text": [
      "enter height in feets5\n",
      "the heigt in cm is 152.4\n"
     ]
    }
   ],
   "source": [
    "hft=float(input(\"enter height in feets\"))\n",
    "hcm=30.48*hft\n",
    "print(f\"the heigt in cm is {hcm}\")"
   ]
  },
  {
   "cell_type": "markdown",
   "metadata": {},
   "source": [
    "# BMI Calculator"
   ]
  },
  {
   "cell_type": "code",
   "execution_count": 14,
   "metadata": {},
   "outputs": [
    {
     "name": "stdout",
     "output_type": "stream",
     "text": [
      "Enter Height: 5\n",
      "Enter Weight in Kg: 5\n",
      "Your BMI is 1999.9999999999995\n"
     ]
    }
   ],
   "source": [
    "height_cm=int(input(\"Enter Height: \"))\n",
    "weight=int(input(\"Enter Weight in Kg: \"))\n",
    "height_m=height_cm*0.01        \n",
    "bmi=weight/height_m**(2)\n",
    "print(f\"Your BMI is {bmi}\")"
   ]
  },
  {
   "cell_type": "markdown",
   "metadata": {},
   "source": [
    "# Sum of n Positive Integers"
   ]
  },
  {
   "cell_type": "code",
   "execution_count": 15,
   "metadata": {},
   "outputs": [
    {
     "name": "stdout",
     "output_type": "stream",
     "text": [
      "Input a number: 7\n",
      "Sum of n positive integers till 7 is 28.0\n"
     ]
    }
   ],
   "source": [
    "n = int(input(\"Input a number: \"))\n",
    "sum_num = (n * (n + 1)) / 2\n",
    "print(f\"Sum of n positive integers till {n} is {sum_num}\")\n"
   ]
  },
  {
   "cell_type": "markdown",
   "metadata": {},
   "source": [
    "# Digits Sum of a Number"
   ]
  },
  {
   "cell_type": "code",
   "execution_count": 16,
   "metadata": {},
   "outputs": [
    {
     "name": "stdout",
     "output_type": "stream",
     "text": [
      "Enter a number: 2222\n",
      "Sum of 2 2 2 2 is 8\n"
     ]
    }
   ],
   "source": [
    "\n",
    "num=int(input(\"Enter a number: \"))\n",
    "x=num//1000\n",
    "x1=(num-x*1000)//100\n",
    "x2=(num-x*1000-x1*100)//10\n",
    "x3=num-x*1000-x1*100-x2*10\n",
    "print(f\"Sum of {x} {x1} {x2} {x3} is {x+x1+x2+x3}\")"
   ]
  },
  {
   "cell_type": "code",
   "execution_count": null,
   "metadata": {},
   "outputs": [],
   "source": []
  }
 ],
 "metadata": {
  "kernelspec": {
   "display_name": "Python 3",
   "language": "python",
   "name": "python3"
  },
  "language_info": {
   "codemirror_mode": {
    "name": "ipython",
    "version": 3
   },
   "file_extension": ".py",
   "mimetype": "text/x-python",
   "name": "python",
   "nbconvert_exporter": "python",
   "pygments_lexer": "ipython3",
   "version": "3.7.3"
  }
 },
 "nbformat": 4,
 "nbformat_minor": 2
}
